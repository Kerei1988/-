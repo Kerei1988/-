{
  "cells": [
    {
      "cell_type": "markdown",
      "metadata": {
        "id": "view-in-github",
        "colab_type": "text"
      },
      "source": [
        "<a href=\"https://colab.research.google.com/github/Kerei1988/-/blob/main/myspark.ipynb\" target=\"_parent\"><img src=\"https://colab.research.google.com/assets/colab-badge.svg\" alt=\"Open In Colab\"/></a>"
      ]
    },
    {
      "cell_type": "markdown",
      "source": [
        "# Тема дипломной:\n",
        "# № 5. Анализ и сравнение различных способов обработки и хранения больших данных:\n",
        "# Pandas, Dask и Apache Spark"
      ],
      "metadata": {
        "id": "4JOWfJwfwSDS"
      }
    },
    {
      "cell_type": "code",
      "execution_count": null,
      "metadata": {
        "collapsed": true,
        "id": "aGBvSn8W4scz"
      },
      "outputs": [],
      "source": [
        "\n",
        "!pip install pyspark\n",
        "!pip install pandas\n",
        "\n",
        "\n"
      ]
    },
    {
      "cell_type": "code",
      "execution_count": 89,
      "metadata": {
        "collapsed": true,
        "id": "HbyQNhrdUZGd",
        "colab": {
          "base_uri": "https://localhost:8080/"
        },
        "outputId": "2e0d7724-cb4f-4653-b39b-089b30a1d22a"
      },
      "outputs": [
        {
          "output_type": "stream",
          "name": "stdout",
          "text": [
            "+--------+-------------------------------------------------+-------------------------+--------------+------------------------------+----+----------------------------------------------------------------------------------------+----------------------------------------------------------------------------------------------------+--------------+\n",
            "|Position|                                        Job Title|             Company Name|      Location|                        Salary|Date|                                                                                    Logo|                                                                                            Job Link|Company Rating|\n",
            "+--------+-------------------------------------------------+-------------------------+--------------+------------------------------+----+----------------------------------------------------------------------------------------+----------------------------------------------------------------------------------------------------+--------------+\n",
            "|       1|                  Associate Stop Loss Underwriter|The Insurance Center\\n2.7|  Onalaska, WI|  $57K - $84K (Glassdoor est.)|30d+|https://media.glassdoor.com/sql/453835/the-insurance-center-squarelogo-1492120667693.png|https://www.glassdoor.com/partner/jobListing.htm?pos=101&ao=1110586&s=58&guid=00000190257c3508a9f...|           2.7|\n",
            "|       2|                          Manager of Data Science|      Nuvative, Inc.\\n3.4|   Wichita, KS|$106K - $157K (Glassdoor est.)|30d+|    https://media.glassdoor.com/sql/1384674/net-pay-advance-squarelogo-1505283647927.png|https://www.glassdoor.com/partner/jobListing.htm?pos=102&ao=1110586&s=58&guid=00000190257c3508a9f...|           3.4|\n",
            "|       3|                      Senior Data Product Manager|       ProviderTrust\\n4.2| Nashville, TN|$105K - $141K (Glassdoor est.)| 11d|              https://media.glassdoor.com/sql/1953857/hibob-squareLogo-1709829933063.png|https://www.glassdoor.com/partner/jobListing.htm?pos=103&ao=1110586&s=58&guid=00000190257c3508a9f...|           4.2|\n",
            "|       4|                         Oncology Nurse Navigator|       Inizio Engage\\n3.6|  Portland, OR|  $90K - $113K (Employer est.)|  1d|             https://media.glassdoor.com/sql/8794153/inizio-squarelogo-1686067168894.png|https://www.glassdoor.com/partner/jobListing.htm?pos=104&ao=1110586&s=58&guid=00000190257c3508a9f...|           3.6|\n",
            "|       5|Head of Artificial Intelligence – Americas Region|            Covestro\\n3.6|Pittsburgh, PA| $89K - $148K (Glassdoor est.)|30d+|             https://media.glassdoor.com/sql/27128/covestro-squarelogo-1453844629357.png|https://www.glassdoor.com/partner/jobListing.htm?pos=105&ao=1110586&s=58&guid=00000190257c3508a9f...|           3.6|\n",
            "+--------+-------------------------------------------------+-------------------------+--------------+------------------------------+----+----------------------------------------------------------------------------------------+----------------------------------------------------------------------------------------------------+--------------+\n",
            "only showing top 5 rows\n",
            "\n",
            "root\n",
            " |-- Position: string (nullable = true)\n",
            " |-- Job Title: string (nullable = true)\n",
            " |-- Company Name: string (nullable = true)\n",
            " |-- Location: string (nullable = true)\n",
            " |-- Salary: string (nullable = true)\n",
            " |-- Date: string (nullable = true)\n",
            " |-- Logo: string (nullable = true)\n",
            " |-- Job Link: string (nullable = true)\n",
            " |-- Company Rating: string (nullable = true)\n",
            "\n",
            "+-------+-----------------+--------------------+----------------+------------------+--------------------+-----------------+--------------------+--------------------+------------------+\n",
            "|summary|         Position|           Job Title|    Company Name|          Location|              Salary|             Date|                Logo|            Job Link|    Company Rating|\n",
            "+-------+-----------------+--------------------+----------------+------------------+--------------------+-----------------+--------------------+--------------------+------------------+\n",
            "|  count|              500|                 500|             500|               500|                 438|              500|                 436|                 500|               439|\n",
            "|   mean|            250.5|                NULL|            NULL|              NULL|                NULL|9.706521739130435|                NULL|                NULL|3.8123006833712965|\n",
            "| stddev|144.4818327679989|                NULL|            NULL|              NULL|                NULL|7.529633158001201|                NULL|                NULL|0.4802814441007242|\n",
            "|    min|                1|$40/hr - $50/hr -...|12100 Collective|        Albany, GA|$100K - $105K (Em...|              10d|https://media.gla...|https://www.glass...|                 1|\n",
            "|    max|               99|Violence Preventi...|    the NBA\\n3.8|Woodcliff Lake, NJ|$99K - $130K (Emp...|               9d|https://media.gla...|https://www.glass...|                 5|\n",
            "+-------+-----------------+--------------------+----------------+------------------+--------------------+-----------------+--------------------+--------------------+------------------+\n",
            "\n",
            "387\n",
            "+-------+------------------+--------------------+------------+------------------+--------------------+------------------+--------------------+--------------------+------------------+\n",
            "|summary|          Position|           Job Title|Company Name|          Location|              Salary|              Date|                Logo|            Job Link|    Company Rating|\n",
            "+-------+------------------+--------------------+------------+------------------+--------------------+------------------+--------------------+--------------------+------------------+\n",
            "|  count|               387|                 387|         387|               387|                 387|               387|                 387|                 387|               387|\n",
            "|   mean|261.43152454780363|                NULL|        NULL|              NULL|                NULL|10.025380710659899|                NULL|                NULL| 3.811111111111109|\n",
            "| stddev|139.47931426292297|                NULL|        NULL|              NULL|                NULL|   7.7330700850991|                NULL|                NULL|0.4800211087279493|\n",
            "|    min|                 1|AI Integration Sp...|    ADP\\n3.9|        Albany, GA|$100K - $105K (Em...|               10d|https://media.gla...|https://www.glass...|                 1|\n",
            "|    max|                97|Vice President, D...|the NBA\\n3.8|Woodcliff Lake, NJ|$99K - $130K (Emp...|                9d|https://media.gla...|https://www.glass...|                 5|\n",
            "+-------+------------------+--------------------+------------+------------------+--------------------+------------------+--------------------+--------------------+------------------+\n",
            "\n"
          ]
        }
      ],
      "source": [
        "from pyspark.sql import SparkSession, DataFrame, Row\n",
        "import matplotlib.pyplot as plt\n",
        "from pyspark.sql.functions import *\n",
        "from collections import defaultdict\n",
        "from pyspark.sql.types import FloatType, DecimalType, IntegerType\n",
        "\n",
        "\n",
        "\n",
        "# Открываем сессию Spark, для чтения базы данных с файла, для дальнейшей обратботки и анализа\n",
        "spark = SparkSession.builder.getOrCreate()\n",
        "\n",
        "# Читаем файл csv\n",
        "sdf = spark.read.option('multiline', True).csv('Data-Science-Jobs.csv', header=True)\n",
        "\n",
        "# Визуальный осмотр данных (первые 5 строк)\n",
        "sdf.show(5, truncate=100)\n",
        "\n",
        "# Информация о базе данных: база данных сотсовляет из 500 строк,\n",
        "# столбцы  ' Salary', '  Logo ', ' Company Rating' включают пропущенные значени\n",
        "# Столбцы 'Salary' и 'Company Rating',  'Date' - тип данных String,\n",
        "sdf.printSchema()\n",
        "sdf.describe().show()\n",
        "\n",
        "# Около 13% строк, содержащие не заполненные поля,  удаляем. Для анализа данных останется 387 строк\n",
        "df = sdf.dropna()\n",
        "df_count = df.count()\n",
        "print(df_count)\n",
        "df.describe().show()\n",
        "\n"
      ]
    },
    {
      "cell_type": "code",
      "execution_count": 78,
      "metadata": {
        "collapsed": true,
        "id": "nMQOl-Q0eIXV",
        "colab": {
          "base_uri": "https://localhost:8080/"
        },
        "outputId": "400816ee-a575-4ecb-e138-5378e9646370"
      },
      "outputs": [
        {
          "output_type": "stream",
          "name": "stdout",
          "text": [
            "117\n",
            "3\n",
            "+---------------------------------------------------------------------------------------+-----+\n",
            "|                                                                              Job Title|count|\n",
            "+---------------------------------------------------------------------------------------+-----+\n",
            "|                                                                         Data Scientist|   22|\n",
            "|                                                                  Senior Data Scientist|   10|\n",
            "|                                                                 Principal Data Science|    8|\n",
            "|                                                            Senior Manager Data Science|    8|\n",
            "|                                                             Field Data Collector (PPC)|    7|\n",
            "|                                                                     Data Engineer (PO)|    5|\n",
            "|                                                                           Data Analyst|    5|\n",
            "|                                                                Engineer, Generative AI|    5|\n",
            "|                                                            Senior Data Science Analyst|    5|\n",
            "|                                                          Product Management Leader- AI|    4|\n",
            "|                              Solution Developer I - Automation & Innovation Management|    4|\n",
            "|                                                    Senior Machine Learning Engineer II|    4|\n",
            "|                               Data Scientist - Secureworks - Atlanta, GA or Remote, US|    4|\n",
            "|                                                                 Principal Data Analyst|    4|\n",
            "|                                                                   Manager Data Science|    4|\n",
            "|                                    Medical Science Liaison, Endocrinology/Rare Disease|    4|\n",
            "|                                                              Data Scientist & Engineer|    4|\n",
            "|                                Data Scientist (Javascript, .Net Framework, SQL)-Remote|    4|\n",
            "|Reliability, Availability and Serviceability Expert, Datacenter AI Products Development|    4|\n",
            "|                                                                    Senior Data Analyst|    3|\n",
            "+---------------------------------------------------------------------------------------+-----+\n",
            "only showing top 20 rows\n",
            "\n",
            "154\n"
          ]
        }
      ],
      "source": [
        "\n",
        "# TOP 10 популярныx региона США, для найма специалистов в области обработки данных , визуализируем для удобного восприятия.\n",
        "# график показывает что наибольшее количество вакансий Riverwoods, IL(31), Remote (22), New York, NY (21)\n",
        "location = df.groupBy('Location').count().orderBy('count', ascending=False)\n",
        "pandas_location = location.toPandas().set_index('Location').head(10)\n",
        "pandas_location.plot.bar()\n",
        "\n",
        "# Найдем города с наибольши и наименьшим спросом на специалистов.\n",
        "# Количество вакансии меньше 6 - 117 регион\n",
        "# Количество вакинсий больше 15 - 3 региона\n",
        "small_location = location.filter(location['count'] <= 5)\n",
        "print(small_location.count())\n",
        "most_location = location.filter(location['count'] >= 15)\n",
        "print(most_location.count())\n",
        "# количество специальностей - 223\n",
        "number_specialists = df.select('Job Title').drop_duplicates()\n",
        "number_specialists.count()\n",
        "\n",
        "# Самые востребованные специалисты:\n",
        "# 1 -  Data Scientist\n",
        "# 2 - Senior Data Scientist\n",
        "# 3 - Senior Manager Data Scientist, Principal Data Science\n",
        "most_popular_specialties = df.groupBy('Job Title').count().sort('count', ascending=False).show(truncate=100)\n",
        "\n",
        "# количество наименее востребованных специалистов, с одной вакансией на рынке труда - 154 вакансий\n",
        "least_popular_specialties = df.groupBy('Job Title').count().filter('count < 2').count()\n",
        "print(least_popular_specialties)\n"
      ]
    },
    {
      "cell_type": "markdown",
      "metadata": {
        "id": "JwuYbibs2gEy"
      },
      "source": []
    },
    {
      "cell_type": "code",
      "execution_count": null,
      "metadata": {
        "id": "TxNY6FfB0KQz",
        "collapsed": true
      },
      "outputs": [],
      "source": [
        "# найдем среднее количество дней актуальности вакансий - 19+\n",
        "# минимальный срок актуальности - 1\n",
        "# максимальное количество дней - 30\n",
        "date_df = df[['Date']]\n",
        "date_df = date_df.withColumn('Date', regexp_replace('Date', '24h', '1d'))\n",
        "date_df = date_df.withColumn('Date', regexp_extract('Date', r'\\b(\\d+).+', 1).astype(IntegerType()))\n",
        "date_min = date_df.select(min(date_df.Date)).show()\n",
        "date_max = date_df.agg({'Date': 'max'}).show()\n",
        "date_mean = date_df.select(mean(date_df.Date)).show()"
      ]
    },
    {
      "cell_type": "code",
      "source": [
        "# найдем самого активного работодателя на рынке труда из базы данных - 'Discover Financial Services'\n",
        "# Общее количество работодателей 188\n",
        "# отобразим на графике 10 самых активных работодателей\n",
        "company_name = df[['Company Name']].withColumn('Company Name', regexp_replace('Company Name', '(\\n\\d\\.\\d)', ''))\n",
        "number_vacancies_per_company = company_name.groupBy('Company Name').count().sort('count', ascending=False) # Количество вакансий на 1 работодателя\n",
        "number_vacancies = number_vacancies_per_company.select( sum(number_vacancies_per_company['count'])) # общее количество вакансий\n",
        "number_companies = company_name.drop_duplicates().count() #количество работодателей\n",
        "print(number_companies)"
      ],
      "metadata": {
        "collapsed": true,
        "id": "56mHi3i9_UId"
      },
      "execution_count": null,
      "outputs": []
    },
    {
      "cell_type": "code",
      "source": [
        "# десятка самых активных работодателей базы данных\n",
        "part = number_vacancies_per_company.withColumn('count', (number_vacancies_per_company['count']/number_companies)*100)\n",
        "part_pandas = part.toPandas().set_index('Company Name').head(10)\n",
        "part_pandas.plot.barh()\n",
        "plt.show()\n"
      ],
      "metadata": {
        "collapsed": true,
        "id": "PGmRuuPwU__i"
      },
      "execution_count": null,
      "outputs": []
    },
    {
      "cell_type": "code",
      "source": [
        "# Для анализа рынка труда, нужно столбец \"Salary\", преобразовать в числовой тип\n",
        "\n",
        "salary = df[['Job Title', 'Salary']].withColumn('Salary', translate('Salary', '$|K', '').alias('Salary'))\n",
        "salary_per = salary.filter(salary.Salary.like('%Per%'))\n",
        "salary_month = salary.join(salary_per[['Job Title', 'Salary']], 'Salary', how='left_anti')\n",
        "\n",
        "salary_per =  salary_per.withColumn('Salary', regexp_extract('Salary', '(\\d\\d.\\d\\d - \\d\\d.\\d\\d)|(\\d\\d)', 0))\n",
        "salary_per = salary_per.withColumn('Salary_1', split('Salary', '-')[1].cast(DecimalType(5,2)))\n",
        "salary_per = salary_per.withColumn('Salary_0', split('Salary', '-')[0])\n",
        "salary_per = salary_per.withColumn('Salary', coalesce((col('Salary_1')+col('Salary_0'))/2, lit(salary_per['Salary_0'])))\n",
        "salary_per = salary_per.withColumn('Salary', col('Salary')*8*22/1000)\n",
        "salary_per = salary_per.withColumn('Salary, $, K', col('Salary').cast(DecimalType(5,2)))\n",
        "salary_per = salary_per.select('Job Title', 'Salary, $, K')\n",
        "\n",
        "salary_month = salary_month.withColumn('Salary', translate('Salary', ' ', ''))\n",
        "salary_month = salary_month.withColumn('Salary', regexp_extract('Salary', '\\d+-\\d+|\\d+', 0))\n",
        "salary_month = salary_month.withColumn('Salary_1', split('Salary', '-')[1].cast(DecimalType(5,2)))\n",
        "salary_month = salary_month.withColumn('Salary_0', split('Salary', '-')[0])\n",
        "salary_month = salary_month.withColumn('Salary, $, K', coalesce((col('Salary_1')+col('Salary_0'))/2, lit(salary_month['Salary_0'])).cast(DecimalType(5,2)))\n",
        "salary_month = salary_month.select('Job Title', 'Salary, $, K')\n",
        "\n",
        "# преобразованная таблица 'Salary'\n",
        "salary = salary_month.join(salary_per, ['Job Title', 'Salary, $, K'], how='outer')\n",
        "\n",
        "# Максимальная оплата труда - 4 вакансии 'Reliability, Availability and Serviceability Expert, Datacenter AI Products Development'($272.5 K) от компании NVIDIA\n",
        "# Минимальная - Junior Data Science ($2.46 K)\n",
        "salary_max = salary.orderBy('Salary, $, K', ascending=False)\n",
        "salary_min = salary.orderBy('Salary, $, K', ascending=True)\n",
        "\n",
        "#Средняя заработная плата по рынку состовляет 117.405\n",
        "avg_salary = salary.agg({'Salary, $, K': 'mean'})\n",
        "\n",
        "# Лучшие работодатели по рейтингу\n",
        "rating_company = df[['Company Name', 'Company Rating']]\n",
        "rating_company = df[['Company Name','Company Rating']].withColumn('Company Name', regexp_replace('Company Name', '(\\n\\d\\.\\d)', '')).sort('Company Rating', ascending=False)\n",
        "pandas_rating = rating_company.toPandas().set_index('Company Name').astype(float).drop_duplicates().head(10)\n",
        "pandas_rating.plot.barh()\n",
        "\n",
        "\n",
        "\n"
      ],
      "metadata": {
        "id": "KLfXkYX98SMg",
        "collapsed": true
      },
      "execution_count": null,
      "outputs": []
    }
  ],
  "metadata": {
    "colab": {
      "provenance": [],
      "authorship_tag": "ABX9TyNWTyroNaAykOsMlMPUsCla",
      "include_colab_link": true
    },
    "kernelspec": {
      "display_name": "Python 3",
      "name": "python3"
    },
    "language_info": {
      "name": "python"
    }
  },
  "nbformat": 4,
  "nbformat_minor": 0
}